{
 "cells": [
  {
   "cell_type": "code",
   "execution_count": 56,
   "metadata": {},
   "outputs": [
    {
     "data": {
      "text/html": [
       "<div>\n",
       "<style scoped>\n",
       "    .dataframe tbody tr th:only-of-type {\n",
       "        vertical-align: middle;\n",
       "    }\n",
       "\n",
       "    .dataframe tbody tr th {\n",
       "        vertical-align: top;\n",
       "    }\n",
       "\n",
       "    .dataframe thead th {\n",
       "        text-align: right;\n",
       "    }\n",
       "</style>\n",
       "<table border=\"1\" class=\"dataframe\">\n",
       "  <thead>\n",
       "    <tr style=\"text-align: right;\">\n",
       "      <th></th>\n",
       "      <th>short_desc</th>\n",
       "      <th>year</th>\n",
       "      <th>Value</th>\n",
       "    </tr>\n",
       "  </thead>\n",
       "  <tbody>\n",
       "    <tr>\n",
       "      <th>0</th>\n",
       "      <td>SOYBEANS - PRODUCTION, MEASURED IN BU</td>\n",
       "      <td>2023</td>\n",
       "      <td>573,040,000</td>\n",
       "    </tr>\n",
       "    <tr>\n",
       "      <th>1</th>\n",
       "      <td>SOYBEANS - PRODUCTION, MEASURED IN BU</td>\n",
       "      <td>2022</td>\n",
       "      <td>586,755,000</td>\n",
       "    </tr>\n",
       "    <tr>\n",
       "      <th>2</th>\n",
       "      <td>SOYBEANS - PRODUCTION, MEASURED IN BU</td>\n",
       "      <td>2021</td>\n",
       "      <td>631,890,000</td>\n",
       "    </tr>\n",
       "    <tr>\n",
       "      <th>3</th>\n",
       "      <td>SOYBEANS - PRODUCTION, MEASURED IN BU</td>\n",
       "      <td>2020</td>\n",
       "      <td>505,980,000</td>\n",
       "    </tr>\n",
       "    <tr>\n",
       "      <th>4</th>\n",
       "      <td>SOYBEANS - PRODUCTION, MEASURED IN BU</td>\n",
       "      <td>2019</td>\n",
       "      <td>501,600,000</td>\n",
       "    </tr>\n",
       "  </tbody>\n",
       "</table>\n",
       "</div>"
      ],
      "text/plain": [
       "                              short_desc  year        Value\n",
       "0  SOYBEANS - PRODUCTION, MEASURED IN BU  2023  573,040,000\n",
       "1  SOYBEANS - PRODUCTION, MEASURED IN BU  2022  586,755,000\n",
       "2  SOYBEANS - PRODUCTION, MEASURED IN BU  2021  631,890,000\n",
       "3  SOYBEANS - PRODUCTION, MEASURED IN BU  2020  505,980,000\n",
       "4  SOYBEANS - PRODUCTION, MEASURED IN BU  2019  501,600,000"
      ]
     },
     "execution_count": 56,
     "metadata": {},
     "output_type": "execute_result"
    }
   ],
   "source": [
    "import urllib.request\n",
    "import urllib.parse\n",
    "import pandas as pd\n",
    "from io import StringIO\n",
    "\n",
    "def get_data(parameters):\n",
    "\n",
    "    base_url = 'http://quickstats.nass.usda.gov/api/api_GET/?key=D48CBA42-D6F6-31A1-9EF1-46D1A70988F5&'\n",
    "\n",
    "    full_url = base_url + parameters\n",
    "        \n",
    "    result = urllib.request.urlopen(full_url)\n",
    "    get_data = result.read().decode('utf-8')\n",
    "            \n",
    "    df = pd.read_csv(StringIO(get_data))\n",
    "            \n",
    "    return df  \n",
    "\n",
    "filter_list = [\n",
    "    ('PRODUCTION','SOYBEANS - PRODUCTION, MEASURED IN BU'),\n",
    "    ('AREA HARVESTED','SOYBEANS - ACRES HARVESTED'),\n",
    "    ('YIELD','SOYBEANS - YIELD, MEASURED IN BU / ACRE') \n",
    "    ]\n",
    "combined_df = pd.DataFrame()\n",
    "\n",
    "for commodity,description in filter_list:\n",
    "    source_desc = 'source_desc=SURVEY'\n",
    "    sector_desc = '&sector_desc=CROPS'\n",
    "    commodity_desc = '&commodity_desc=SOYBEANS'\n",
    "    statisticcat_desc = '&statisticcat_desc=' + urllib.parse.quote(commodity)\n",
    "    short_desc = '&short_desc=' + urllib.parse.quote(description)\n",
    "    location_desc = '&location_desc=IOWA'\n",
    "    year__GE = '&year__GE=2013'\n",
    "    format = '&format=CSV'\n",
    "\n",
    "    parameters = source_desc + sector_desc + commodity_desc + statisticcat_desc + short_desc + location_desc + year__GE + format\n",
    "\n",
    "    df = get_data(parameters)\n",
    "    df = df[(df['year']!=2024)&(df['reference_period_desc']=='YEAR')]\n",
    "    df = df[['short_desc','year','Value']]\n",
    "    combined_df = pd.concat([combined_df, df], ignore_index=True)\n",
    "\n",
    "combined_df.head() \n"
   ]
  },
  {
   "cell_type": "code",
   "execution_count": 52,
   "metadata": {},
   "outputs": [
    {
     "name": "stdout",
     "output_type": "stream",
     "text": [
      "33\n"
     ]
    }
   ],
   "source": [
    "print(combined_df.shape[0])"
   ]
  }
 ],
 "metadata": {
  "kernelspec": {
   "display_name": "venv",
   "language": "python",
   "name": "venv"
  },
  "language_info": {
   "codemirror_mode": {
    "name": "ipython",
    "version": 3
   },
   "file_extension": ".py",
   "mimetype": "text/x-python",
   "name": "python",
   "nbconvert_exporter": "python",
   "pygments_lexer": "ipython3",
   "version": "3.12.6"
  }
 },
 "nbformat": 4,
 "nbformat_minor": 2
}
