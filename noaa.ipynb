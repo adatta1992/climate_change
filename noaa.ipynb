{
 "cells": [
  {
   "cell_type": "code",
   "execution_count": 26,
   "metadata": {},
   "outputs": [],
   "source": [
    "import pandas as pd"
   ]
  },
  {
   "cell_type": "code",
   "execution_count": 27,
   "metadata": {},
   "outputs": [],
   "source": [
    "def read_crop_data(csv_paths, crop):\n",
    "    dfs = []\n",
    "    for path in csv_paths:\n",
    "        df = pd.read_csv(path)\n",
    "        # Select columns\n",
    "        df = df[[\"NAME\", \"DATE\", \"PRCP\", \"TAVG\", \"TMAX\", \"TMIN\"]]\n",
    "\n",
    "        # Extract State Abbreviation\n",
    "        df[\"STATE\"] = df[\"NAME\"].str.extract(r\",\\s*([A-Z]{2})\\s\")[0]\n",
    "        df = df.drop(columns=[\"NAME\"])\n",
    "\n",
    "        # Extract Year and Month\n",
    "        df[\"YEAR\"] = df[\"DATE\"].str.split(\"-\").str[0]\n",
    "        df[\"MONTH\"] = df[\"DATE\"].str.split(\"-\").str[1]\n",
    "        df = df.drop(columns={\"DATE\"})\n",
    "\n",
    "        # Map of numerical month value to month\n",
    "        month_mapping = {\n",
    "            \"01\": \"January\",\n",
    "            \"02\": \"February\",\n",
    "            \"03\": \"March\",\n",
    "            \"04\": \"April\",\n",
    "            \"05\": \"May\",\n",
    "            \"06\": \"June\",\n",
    "            \"07\": \"July\",\n",
    "            \"08\": \"August\",\n",
    "            \"09\": \"September\",\n",
    "            \"10\": \"October\",\n",
    "            \"11\": \"November\",\n",
    "            \"12\": \"December\",\n",
    "        }\n",
    "\n",
    "        # Replace numerical month value with month\n",
    "        df[\"MONTH\"] = df[\"MONTH\"].replace(month_mapping)\n",
    "\n",
    "        # Create column for corresponding crop type\n",
    "        df[\"CROP\"] = crop\n",
    "\n",
    "        dfs.append(df)\n",
    "\n",
    "    #Combining dataframes of the same crop\n",
    "    df_combined = pd.concat(dfs, ignore_index = True)\n",
    "\n",
    "    return df_combined\n"
   ]
  },
  {
   "cell_type": "code",
   "execution_count": 28,
   "metadata": {},
   "outputs": [
    {
     "name": "stdout",
     "output_type": "stream",
     "text": [
      "   PRCP  TAVG  TMAX  TMIN STATE  YEAR     MONTH  CROP\n",
      "0  0.09  18.4  28.2   8.5    IA  2013   January  corn\n",
      "1  0.07  21.4  30.6  12.2    IA  2013  February  corn\n",
      "2  1.98  26.2  34.4  18.0    IA  2013     March  corn\n",
      "3  6.16  41.3  51.2  31.3    IA  2013     April  corn\n",
      "4  7.13  57.0  67.2  46.9    IA  2013       May  corn\n",
      "   PRCP  TAVG  TMAX  TMIN STATE  YEAR      MONTH     CROP\n",
      "0  2.42   NaN   NaN   NaN    NE  2020  September  soybean\n",
      "1  0.75   NaN   NaN   NaN    NE  2020    October  soybean\n",
      "2  1.27   NaN   NaN   NaN    NE  2020   November  soybean\n",
      "3  8.20   NaN   NaN   NaN    NE  2021     August  soybean\n",
      "4  0.40   NaN   NaN   NaN    NE  2021   November  soybean\n",
      "   PRCP  TAVG  TMAX  TMIN STATE  YEAR     MONTH    CROP\n",
      "0  1.04  16.5  26.9   6.1    ID  2013   January  barley\n",
      "1  0.69  22.9  31.9  14.0    ID  2013  February  barley\n",
      "2  1.54  32.1  42.5  21.7    ID  2013     March  barley\n",
      "3  1.52  38.2  49.5  27.0    ID  2013     April  barley\n",
      "4  1.25  49.9  63.2  36.6    ID  2013       May  barley\n",
      "   PRCP  TAVG  TMAX  TMIN STATE  YEAR     MONTH  CROP\n",
      "0  0.59   8.2  18.7  -2.3    ND  2013   January  oats\n",
      "1  1.17  13.1  23.2   3.0    ND  2013  February  oats\n",
      "2  1.30  11.2  22.3   0.1    ND  2013     March  oats\n",
      "3  0.48  26.9  36.9  16.9    ND  2013     April  oats\n",
      "4  4.00  52.0  63.6  40.4    ND  2013       May  oats\n"
     ]
    }
   ],
   "source": [
    "# Relative paths for .csv data for each crop\n",
    "corn_paths = [\"noaa_csv_files/Corn_1.csv\", \"noaa_csv_files/Corn_2.csv\"]\n",
    "soybean_paths = [\"noaa_csv_files/Soybean_1.csv\", \"noaa_csv_files/Soybean_2.csv\"]\n",
    "barley_paths = [\"noaa_csv_files/Barley_1.csv\", \"noaa_csv_files/Barley_2.csv\", \"noaa_csv_files/Barley_3.csv\"]\n",
    "oats_paths = [\"noaa_csv_files/Oats_1.csv\", \"noaa_csv_files/Oats_2.csv\"]\n",
    "\n",
    "# Crop types\n",
    "crops = [\"corn\", \"soybean\", \"barley\", \"oats\"]\n",
    "\n",
    "#List of .csv paths\n",
    "paths = [corn_paths, soybean_paths, barley_paths, oats_paths]\n",
    "\n",
    "#Use for loop and read_crop_data() fo create crop dataframes\n",
    "crop_data = {}\n",
    "for path, crop in zip(paths, crops):\n",
    "    crop_data[crop] = read_crop_data(path, crop)\n",
    "\n",
    "for crop in crops:\n",
    "    print(crop_data[crop].head())\n"
   ]
  }
 ],
 "metadata": {
  "kernelspec": {
   "display_name": "venv",
   "language": "python",
   "name": "python3"
  },
  "language_info": {
   "codemirror_mode": {
    "name": "ipython",
    "version": 3
   },
   "file_extension": ".py",
   "mimetype": "text/x-python",
   "name": "python",
   "nbconvert_exporter": "python",
   "pygments_lexer": "ipython3",
   "version": "3.12.6"
  }
 },
 "nbformat": 4,
 "nbformat_minor": 2
}
